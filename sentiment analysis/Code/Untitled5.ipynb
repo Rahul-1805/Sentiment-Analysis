{
 "cells": [
  {
   "cell_type": "code",
   "execution_count": 1,
   "id": "0b97653e-49bc-4914-80ac-ae720e73aabb",
   "metadata": {},
   "outputs": [
    {
     "name": "stdin",
     "output_type": "stream",
     "text": [
      "Enter keyword/hashtag to search about: modi\n",
      "Enter how many tweets to analyse: 10\n"
     ]
    },
    {
     "name": "stdout",
     "output_type": "stream",
     "text": [
      "How people are reacting on modi by analysing 10 Tweets.\n",
      "Positive\n"
     ]
    },
    {
     "data": {
      "image/png": "[encoded data removed]",
      "text/plain": [
       "<Figure size 432x288 with 1 Axes>"
      ]
     },
     "metadata": {},
     "output_type": "display_data"
    }
   ],
   "source": [
    "import sys,tweepy\n",
    "from textblob import TextBlob\n",
    "import matplotlib.pyplot as plt\n",
    "\n",
    "\n",
    "def percentage(part, whole):\n",
    "    return 100 * float(part) / float(whole)\n",
    "\n",
    "\n",
    "consumerKey = 'ke3C6vLHvU78bl3Vop7LYsSVd'\n",
    "consumerSecret = 'a4rEcAZsqb8eHCTbesJ3gtue00zv12LeiwUB65RFnjW4Bk3RTV'\n",
    "accessToken = '1378743560934105088-ubLZghgEPB0j6Pl3FKIlg1xbT5gpgz'\n",
    "accessTokenSecret = 'I2MY1ZEExYI9OoDb3OlynRPVps2U1YCyYzwDAiFmZSaya'\n",
    "\n",
    "auth = tweepy.OAuthHandler(consumerKey, consumerSecret)\n",
    "auth.set_access_token(accessToken, accessTokenSecret)\n",
    "api = tweepy.API(auth)\n",
    "\n",
    "searchTerm = input(\"Enter keyword/hashtag to search about:\")\n",
    "noOfSearchTerms = int(input(\"Enter how many tweets to analyse:\"))\n",
    "\n",
    "tweets = tweepy.Cursor(api.search_tweets, q=searchTerm).items(noOfSearchTerms)\n",
    "\n",
    "neutral = 0\n",
    "negative = 0\n",
    "positive = 0\n",
    "polarity = 0\n",
    "\n",
    "for tweet in tweets:\n",
    "    #print(tweet.text)\n",
    "    analysis = TextBlob(tweet.text)\n",
    "    polarity += analysis.sentiment.polarity\n",
    "if (analysis.sentiment.polarity == 0):\n",
    "        neutral += 1\n",
    "elif (analysis.sentiment.polarity < 0.00):\n",
    "        negative += 1\n",
    "elif (analysis.sentiment.polarity > 0.00):\n",
    "        positive += 1\n",
    "\n",
    "positive = percentage(positive, noOfSearchTerms)\n",
    "negative = percentage(negative, noOfSearchTerms)\n",
    "neutral = percentage(neutral, noOfSearchTerms)\n",
    "polarity = percentage(polarity, noOfSearchTerms)\n",
    "\n",
    "\n",
    "positive = format (positive, '.2f')\n",
    "negative = format (negative, '.2f')\n",
    "neutral = format (neutral,'.2f')\n",
    "\n",
    "print(\"How people are reacting on \" + searchTerm + \" by analysing \" + str(noOfSearchTerms) + \" Tweets.\")\n",
    "\n",
    "if (polarity == 0):\n",
    "    print(\"Neutral\")\n",
    "elif (polarity < 0.00):\n",
    "    print(\"Negative\")\n",
    "elif (polarity > 0.00):\n",
    "    print(\"Positive\")\n",
    "\n",
    "labels = ['Positive ['+str(positive)+'%]' , 'Negative ['+str(negative)+'%]' , 'Neutral ['+str(neutral)+'%]']\n",
    "sizes = [positive,negative,neutral]\n",
    "colors = ['yellowgreen', 'gold' , 'red']\n",
    "patches, text = plt.pie(sizes, colors=colors,startangle=90)\n",
    "plt.legend(patches, labels, loc=\"best\")\n",
    "plt.title(\"How people are reacting on \" + searchTerm + \" by analysing \" + str(noOfSearchTerms) + \" Tweets.\")\n",
    "plt.axis('equal')\n",
    "plt.tight_layout()\n",
    "plt.show()"
   ]
  },
  {
   "cell_type": "code",
   "execution_count": null,
   "id": "e8a00041-fe55-4ffb-ae4e-a37d998e8410",
   "metadata": {},
   "outputs": [],
   "source": []
  }
 ],
 "metadata": {
  "kernelspec": {
   "display_name": "Python 3 (ipykernel)",
   "language": "python",
   "name": "python3"
  },
  "language_info": {
   "codemirror_mode": {
    "name": "ipython",
    "version": 3
   },
   "file_extension": ".py",
   "mimetype": "text/x-python",
   "name": "python",
   "nbconvert_exporter": "python",
   "pygments_lexer": "ipython3",
   "version": "3.10.4"
  }
 },
 "nbformat": 4,
 "nbformat_minor": 5
}
