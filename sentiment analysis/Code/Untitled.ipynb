{
 "cells": [
  {
   "cell_type": "code",
   "execution_count": 4,
   "id": "af7650fb-f510-4a81-b020-7e5c683c267a",
   "metadata": {},
   "outputs": [
    {
     "name": "stdout",
     "output_type": "stream",
     "text": [
      "@TOI_Nagpur पुणे विद्यापीठाने शिक्षणमंत्र्यांन बरोबर च्या मिटिंगमध्ये Winter Exam मार्च/एप्रिल मध्ये चालू आहेत ते… https://t.co/pezZ0w5bAs\n",
      "Sentiment(polarity=0.0, subjectivity=0.0)\n",
      "@TOI_Nagpur @samant_uday पुणे विद्यापीठाची Exam होत नाही तो पर्यंत इतर कोणत्याही विद्यापीठातील मुलांसाठी Jobs openi… https://t.co/5jL4psRWuE\n",
      "Sentiment(polarity=0.0, subjectivity=0.0)\n",
      "@TOI_Nagpur होय,मी पुणे विद्यापीठातील विद्यार्थी आंदोलनाला उतरणार,कारण विद्यापीठाने निर्णय घेताना विद्यार्थ्यांचा अ… https://t.co/sfPVgZMIb0\n",
      "Sentiment(polarity=0.0, subjectivity=0.0)\n",
      "RT @luckyturkar89: #OnlineExamForAllMaharashtraUniversities\n",
      "We want online exam. \n",
      "#jaisishikshavaisipariksha \n",
      "#justiceforstudents \n",
      "#rtmnu…\n",
      "Sentiment(polarity=0.0, subjectivity=0.0)\n",
      "@CMOMaharashtra @OfficeofUT @AjitPawarSpeaks @samant_uday\n",
      "Sentiment(polarity=0.0, subjectivity=0.0)\n",
      "RT @Furquan_speaks: Vc says: we are not against online exam @samant_uday said to take offline exam.@samant_uday says we are not against onl…\n",
      "Sentiment(polarity=0.0, subjectivity=0.0)\n",
      "@samant_uday is a liar.He is putting blame of his incompetency and insensitivity on chancellor and vice chancellor.… https://t.co/WQdPyOTdYB\n",
      "Sentiment(polarity=0.0, subjectivity=0.0)\n",
      "RT @SanaSha87498025: We want justice..... ❗❗❗\n",
      "We want online exam.... ❗❗❗\n",
      "We want Online examination.... ❗❗❗\n",
      "\n",
      "#SNDTstudentswantonlineexams…\n",
      "Sentiment(polarity=0.0, subjectivity=0.0)\n",
      "RT @Saniya_Ansari__: Even twitter is cheating on us... Har faltu cheez ko isne trend pr lana hai but ONLINE EXAMS na bhaee naah... Ye to at…\n",
      "Sentiment(polarity=0.0, subjectivity=0.0)\n",
      "RT @PranayThakur321: Are you in favour of  Nagpur university examinations in the offline mode? \n",
      "@samant_uday @TOI_Nagpur @CMOMaharashtra @r…\n",
      "Sentiment(polarity=0.0, subjectivity=0.0)\n",
      "RT @Nikhil13976588: If 6 months semester is completed in 3 months, I have a better idea. \"4 Varsha chi engineering 2 varshat gheun taka\". (…\n",
      "Sentiment(polarity=0.5, subjectivity=0.5)\n",
      "RT @AbhiniveshGang1: We want online exam. @CMOMaharashtra @PawarSpeaks @AjitPawarSpeaks @samant_uday @Dev_Fadnavis @RajThackeray we the stu…\n",
      "Sentiment(polarity=0.0, subjectivity=0.0)\n",
      "RT @HRUSHIKESHDHAY2: नागपूर विद्यापीठाने उन्हाळी सत्र परीक्षा ह्या online आणि offline हे दोन्ही पर्याय दिले आहेत, असं पुणे विद्यापीठाणे दे…\n",
      "Sentiment(polarity=0.0, subjectivity=0.0)\n",
      "RT @omkar_benke: परीक्षेची वेळ वाढवून देण्याची मागणी जरा हस्यास्पद वाटते, हि मागणी एका दिवसात तयार आणि आमलात पण आणली जाते,\n",
      "@samant_uday  आप…\n",
      "Sentiment(polarity=0.0, subjectivity=0.0)\n",
      "RT @Unknown88918052: I demand #OnlineExamForAllMaharashtraUniversites \n",
      "@samant_uday\n",
      "Sentiment(polarity=0.0, subjectivity=0.0)\n"
     ]
    }
   ],
   "source": [
    "import tweepy\n",
    "from textblob import TextBlob\n",
    "consumer_key = 'ke3C6vLHvU78bl3Vop7LYsSVd'\n",
    "consumer_secret = 'a4rEcAZsqb8eHCTbesJ3gtue00zv12LeiwUB65RFnjW4Bk3RTV'\n",
    "access_token = '1378743560934105088-ubLZghgEPB0j6Pl3FKIlg1xbT5gpgz'\n",
    "access_token_secret = 'I2MY1ZEExYI9OoDb3OlynRPVps2U1YCyYzwDAiFmZSaya'\n",
    "auth = tweepy.OAuthHandler(consumer_key,consumer_secret)\n",
    "auth.set_access_token(access_token,access_token_secret)\n",
    "api = tweepy.API(auth)\n",
    "public_tweets = api.search_tweets('UDAY SAMANT')\n",
    "\n",
    "for tweet in public_tweets:\n",
    "    print(tweet.text)\n",
    "    analysis = TextBlob(tweet.text)\n",
    "    print(analysis.sentiment)"
   ]
  }
 ],
 "metadata": {
  "kernelspec": {
   "display_name": "Python 3 (ipykernel)",
   "language": "python",
   "name": "python3"
  },
  "language_info": {
   "codemirror_mode": {
    "name": "ipython",
    "version": 3
   },
   "file_extension": ".py",
   "mimetype": "text/x-python",
   "name": "python",
   "nbconvert_exporter": "python",
   "pygments_lexer": "ipython3",
   "version": "3.10.4"
  }
 },
 "nbformat": 4,
 "nbformat_minor": 5
}
